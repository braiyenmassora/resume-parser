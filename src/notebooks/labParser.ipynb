{
 "cells": [
  {
   "cell_type": "markdown",
   "id": "0d73be76",
   "metadata": {},
   "source": [
    "## Import Dataset"
   ]
  },
  {
   "cell_type": "code",
   "execution_count": 1,
   "id": "79489f87",
   "metadata": {},
   "outputs": [],
   "source": [
    "import pandas as pd\n",
    "import json"
   ]
  },
  {
   "cell_type": "code",
   "execution_count": 2,
   "id": "a830aa82",
   "metadata": {},
   "outputs": [],
   "source": []
  },
  {
   "cell_type": "code",
   "execution_count": 3,
   "id": "ae276c25",
   "metadata": {},
   "outputs": [
    {
     "ename": "NameError",
     "evalue": "name 'text' is not defined",
     "output_type": "error",
     "traceback": [
      "\u001b[0;31m---------------------------------------------------------------------------\u001b[0m",
      "\u001b[0;31mNameError\u001b[0m                                 Traceback (most recent call last)",
      "Cell \u001b[0;32mIn[3], line 20\u001b[0m\n\u001b[1;32m     16\u001b[0m                 college_name\u001b[38;5;241m.\u001b[39mappend(listex[i])\n\u001b[1;32m     18\u001b[0m         \u001b[38;5;28;01mreturn\u001b[39;00m college_name\n\u001b[0;32m---> 20\u001b[0m univ \u001b[38;5;241m=\u001b[39m extract_university(\u001b[43mtext\u001b[49m)\n\u001b[1;32m     21\u001b[0m \u001b[38;5;28mprint\u001b[39m(univ)\n\u001b[1;32m     22\u001b[0m parsed_text[\u001b[38;5;124m\"\u001b[39m\u001b[38;5;124muniversity\u001b[39m\u001b[38;5;124m\"\u001b[39m] \u001b[38;5;241m=\u001b[39m univ\n",
      "\u001b[0;31mNameError\u001b[0m: name 'text' is not defined"
     ]
    }
   ],
   "source": [
    "file = \"/home/braiyenmassora/codex-telkom/resume-parser/src/notebooks/support/university.csv\"\n",
    "parsed_text = {}\n",
    "\n",
    "def extract_university(text, file):\n",
    "    df = pd.read_csv(file, header=None)\n",
    "    universities = [i.lower() for i in df[1]]\n",
    "    college_name = []\n",
    "    listex = universities\n",
    "    listsearch = [text.lower()]\n",
    "\n",
    "    for i in range(len(listex)):\n",
    "        for ii in range(len(listsearch)):\n",
    "\n",
    "            if re.findall(listex[i], re.sub(\" +\", \" \", listsearch[ii])):\n",
    "\n",
    "                college_name.append(listex[i])\n",
    "\n",
    "        return college_name\n",
    "    \n",
    "univ = extract_university(text)\n",
    "print(univ)\n",
    "parsed_text[\"university\"] = univ"
   ]
  },
  {
   "cell_type": "code",
   "execution_count": null,
   "id": "e7fd3c5f",
   "metadata": {},
   "outputs": [],
   "source": [
    "\n",
    "    def read_file(file,docx_parser = \"tika\"):\n",
    "        \"\"\"\n",
    "        file : Give path of resume file\n",
    "        docx_parser : Enter docx2txt or tika, by default is tika\n",
    "        \"\"\"\n",
    "        # file = \"/content/Asst Manager Trust Administration.docx\"\n",
    "        file = os.path.join(file)\n",
    "        if file.endswith('docx') or file.endswith('doc'):\n",
    "            if file.endswith('doc') and docx_parser == \"docx2txt\":\n",
    "              docx_parser = \"tika\"\n",
    "              logging.error(\"doc format not supported by the docx2txt changing back to tika\")\n",
    "            resume_lines, raw_text = resumeparse.convert_docx_to_txt(file,docx_parser)\n",
    "        elif file.endswith('pdf'):\n",
    "            resume_lines, raw_text = resumeparse.convert_pdf_to_txt(file)\n",
    "        elif file.endswith('txt'):\n",
    "            with open(file, 'r', encoding='latin') as f:\n",
    "                resume_lines = f.readlines()\n",
    "\n",
    "        else:\n",
    "            resume_lines = None\n",
    "        resume_segments = resumeparse.segment(resume_lines)\n",
    "        \n",
    "        \n",
    "        full_text = \" \".join(resume_lines)\n",
    "\n",
    "        email = resumeparse.extract_email(full_text)\n",
    "        phone = resumeparse.find_phone(full_text)\n",
    "        name = resumeparse.extract_name(\" \".join(resume_segments['contact_info']))\n",
    "        total_exp, text = resumeparse.get_experience(resume_segments)\n",
    "        university = resumeparse.extract_university(full_text, os.path.join(base_path,'world-universities.csv'))\n",
    "\n",
    "        designition = resumeparse.job_designition(full_text)\n",
    "        designition = list(dict.fromkeys(designition).keys())\n",
    "\n",
    "        degree = resumeparse.get_degree(full_text)\n",
    "        company_working = resumeparse.get_company_working(full_text)\n",
    "        \n",
    "     \n",
    "        \n",
    "        return {\n",
    "            \n",
    "            \"university\": university,\n",
    "           \n",
    "        }"
   ]
  },
  {
   "cell_type": "code",
   "execution_count": null,
   "id": "ba44af62",
   "metadata": {},
   "outputs": [],
   "source": []
  },
  {
   "cell_type": "code",
   "execution_count": null,
   "id": "8309da45",
   "metadata": {},
   "outputs": [],
   "source": []
  },
  {
   "cell_type": "code",
   "execution_count": null,
   "id": "6c442b1b",
   "metadata": {},
   "outputs": [],
   "source": []
  },
  {
   "cell_type": "code",
   "execution_count": null,
   "id": "0c0cb5e6",
   "metadata": {},
   "outputs": [],
   "source": []
  },
  {
   "cell_type": "code",
   "execution_count": 2,
   "id": "6c284b0a",
   "metadata": {},
   "outputs": [
    {
     "data": {
      "text/html": [
       "<div>\n",
       "<style scoped>\n",
       "    .dataframe tbody tr th:only-of-type {\n",
       "        vertical-align: middle;\n",
       "    }\n",
       "\n",
       "    .dataframe tbody tr th {\n",
       "        vertical-align: top;\n",
       "    }\n",
       "\n",
       "    .dataframe thead th {\n",
       "        text-align: right;\n",
       "    }\n",
       "</style>\n",
       "<table border=\"1\" class=\"dataframe\">\n",
       "  <thead>\n",
       "    <tr style=\"text-align: right;\">\n",
       "      <th></th>\n",
       "      <th>Rank</th>\n",
       "      <th>University</th>\n",
       "      <th>Town</th>\n",
       "    </tr>\n",
       "  </thead>\n",
       "  <tbody>\n",
       "    <tr>\n",
       "      <th>0</th>\n",
       "      <td>1</td>\n",
       "      <td>Universitas Gadjah Mada</td>\n",
       "      <td>Sleman</td>\n",
       "    </tr>\n",
       "    <tr>\n",
       "      <th>1</th>\n",
       "      <td>2</td>\n",
       "      <td>Universitas Indonesia</td>\n",
       "      <td>Depok</td>\n",
       "    </tr>\n",
       "    <tr>\n",
       "      <th>2</th>\n",
       "      <td>3</td>\n",
       "      <td>Universitas Diponegoro</td>\n",
       "      <td>Semarang</td>\n",
       "    </tr>\n",
       "    <tr>\n",
       "      <th>3</th>\n",
       "      <td>4</td>\n",
       "      <td>Universitas Pendidikan Indonesia</td>\n",
       "      <td>Bandung</td>\n",
       "    </tr>\n",
       "    <tr>\n",
       "      <th>4</th>\n",
       "      <td>5</td>\n",
       "      <td>Universitas Negeri Yogyakarta</td>\n",
       "      <td>Sleman</td>\n",
       "    </tr>\n",
       "  </tbody>\n",
       "</table>\n",
       "</div>"
      ],
      "text/plain": [
       "   Rank                        University      Town\n",
       "0     1           Universitas Gadjah Mada    Sleman\n",
       "1     2             Universitas Indonesia     Depok\n",
       "2     3            Universitas Diponegoro  Semarang\n",
       "3     4  Universitas Pendidikan Indonesia   Bandung\n",
       "4     5     Universitas Negeri Yogyakarta    Sleman"
      ]
     },
     "execution_count": 2,
     "metadata": {},
     "output_type": "execute_result"
    }
   ],
   "source": [
    "univ = pd.read_csv(\"/home/braiyenmassora/codex-telkom/resume-parser/src/notebooks/support/university.csv\")\n",
    "univ.head()"
   ]
  },
  {
   "cell_type": "code",
   "execution_count": 3,
   "id": "90846d95",
   "metadata": {},
   "outputs": [
    {
     "data": {
      "text/html": [
       "<div>\n",
       "<style scoped>\n",
       "    .dataframe tbody tr th:only-of-type {\n",
       "        vertical-align: middle;\n",
       "    }\n",
       "\n",
       "    .dataframe tbody tr th {\n",
       "        vertical-align: top;\n",
       "    }\n",
       "\n",
       "    .dataframe thead th {\n",
       "        text-align: right;\n",
       "    }\n",
       "</style>\n",
       "<table border=\"1\" class=\"dataframe\">\n",
       "  <thead>\n",
       "    <tr style=\"text-align: right;\">\n",
       "      <th></th>\n",
       "      <th>University</th>\n",
       "      <th>Town</th>\n",
       "    </tr>\n",
       "  </thead>\n",
       "  <tbody>\n",
       "    <tr>\n",
       "      <th>0</th>\n",
       "      <td>Universitas Gadjah Mada</td>\n",
       "      <td>Sleman</td>\n",
       "    </tr>\n",
       "    <tr>\n",
       "      <th>1</th>\n",
       "      <td>Universitas Indonesia</td>\n",
       "      <td>Depok</td>\n",
       "    </tr>\n",
       "    <tr>\n",
       "      <th>2</th>\n",
       "      <td>Universitas Diponegoro</td>\n",
       "      <td>Semarang</td>\n",
       "    </tr>\n",
       "    <tr>\n",
       "      <th>3</th>\n",
       "      <td>Universitas Pendidikan Indonesia</td>\n",
       "      <td>Bandung</td>\n",
       "    </tr>\n",
       "    <tr>\n",
       "      <th>4</th>\n",
       "      <td>Universitas Negeri Yogyakarta</td>\n",
       "      <td>Sleman</td>\n",
       "    </tr>\n",
       "  </tbody>\n",
       "</table>\n",
       "</div>"
      ],
      "text/plain": [
       "                         University      Town\n",
       "0           Universitas Gadjah Mada    Sleman\n",
       "1             Universitas Indonesia     Depok\n",
       "2            Universitas Diponegoro  Semarang\n",
       "3  Universitas Pendidikan Indonesia   Bandung\n",
       "4     Universitas Negeri Yogyakarta    Sleman"
      ]
     },
     "execution_count": 3,
     "metadata": {},
     "output_type": "execute_result"
    }
   ],
   "source": [
    "x = univ.drop('Rank', axis=1)\n",
    "x.head()"
   ]
  },
  {
   "cell_type": "code",
   "execution_count": null,
   "id": "7f6571e7",
   "metadata": {},
   "outputs": [],
   "source": [
    "# convert the dataframe to plain text and save it to a file\n",
    "with open('output.txt', 'w') as f:\n",
    "    f.write(x.to_string(index=False))\n"
   ]
  },
  {
   "cell_type": "markdown",
   "id": "d22c5570",
   "metadata": {},
   "source": [
    "## Load Anotations"
   ]
  },
  {
   "cell_type": "code",
   "execution_count": null,
   "id": "9cf3e6bb",
   "metadata": {},
   "outputs": [],
   "source": [
    "import os\n",
    "os.chdir(r'/home/braiyenmassora/codex-telkom/resume-parser/src/notebooks/anotations')\n",
    "\n",
    "with open('educations.json', 'r') as f:\n",
    "    data = json.load(f)"
   ]
  },
  {
   "cell_type": "code",
   "execution_count": null,
   "id": "96f4df1d",
   "metadata": {},
   "outputs": [],
   "source": [
    "data"
   ]
  },
  {
   "cell_type": "code",
   "execution_count": null,
   "id": "e5073116",
   "metadata": {},
   "outputs": [],
   "source": [
    "entity_name = \"EDUCATIONS\"\n",
    "train_data = data['annotations']\n",
    "train_data = [tuple(i) for i in train_data]"
   ]
  },
  {
   "cell_type": "code",
   "execution_count": null,
   "id": "7a60dc69",
   "metadata": {},
   "outputs": [],
   "source": [
    "train_data"
   ]
  },
  {
   "cell_type": "code",
   "execution_count": null,
   "id": "298b544e",
   "metadata": {},
   "outputs": [],
   "source": [
    "for i in train_data:\n",
    "    if i[1]['entities'] == []:\n",
    "        i[1]['entities'] = (0, 0, entity_name)\n",
    "    else:\n",
    "        i[1]['entities'][0] = tuple(i[1]['entities'][0])"
   ]
  },
  {
   "cell_type": "code",
   "execution_count": null,
   "id": "d0e1e1c6",
   "metadata": {},
   "outputs": [],
   "source": [
    "train_data"
   ]
  },
  {
   "cell_type": "code",
   "execution_count": null,
   "id": "82518ffe",
   "metadata": {},
   "outputs": [],
   "source": [
    "model = None\n",
    "output_dir=(\"/home/braiyenmassora/codex-telkom/resume-parser/src/notebooks/models\")\n",
    "n_iter=100"
   ]
  },
  {
   "cell_type": "code",
   "execution_count": null,
   "id": "16576f69",
   "metadata": {},
   "outputs": [],
   "source": [
    "#load the model\n",
    "\n",
    "if model is not None:\n",
    "    nlp = spacy.load(model)  \n",
    "    print(\"Loaded model '%s'\" % model)\n",
    "else:\n",
    "    nlp = spacy.blank('en')  \n",
    "    print(\"Created blank 'en' model\")\n",
    "\n",
    "#set up the pipeline\n",
    "\n",
    "if 'ner' not in nlp.pipe_names:\n",
    "    ner = nlp.create_pipe('ner')\n",
    "    nlp.add_pipe(ner, last=True)\n",
    "else:\n",
    "    ner = nlp.get_pipe('ner')"
   ]
  },
  {
   "cell_type": "code",
   "execution_count": null,
   "id": "4d5cd8dd",
   "metadata": {},
   "outputs": [],
   "source": [
    "for _, annotations in train_data:\n",
    "    for ent in annotations.get('entities'):\n",
    "        ner.add_label(ent[2])\n",
    "\n",
    "other_pipes = [pipe for pipe in nlp.pipe_names if pipe != 'ner']\n",
    "with nlp.disable_pipes(*other_pipes):  # only train NER\n",
    "    optimizer = nlp.begin_training()\n",
    "    for itn in range(n_iter):\n",
    "        random.shuffle(train_data)\n",
    "        losses = {}\n",
    "        for text, annotations in tqdm(train_data):\n",
    "            nlp.update(\n",
    "                [text],  \n",
    "                [annotations],  \n",
    "                drop=0.5,  \n",
    "                sgd=optimizer,\n",
    "                losses=losses)\n",
    "        print(losses)"
   ]
  },
  {
   "cell_type": "code",
   "execution_count": null,
   "id": "f82d2ae1",
   "metadata": {},
   "outputs": [],
   "source": [
    "for text, _ in train_data:\n",
    "    doc = nlp(text)\n",
    "    print('Entities', [(ent.text, ent.label_) for ent in doc.ents])"
   ]
  },
  {
   "cell_type": "code",
   "execution_count": null,
   "id": "1a859689",
   "metadata": {},
   "outputs": [],
   "source": [
    "if output_dir is not None:\n",
    "    output_dir = Path(output_dir)\n",
    "    if not output_dir.exists():\n",
    "        output_dir.mkdir()\n",
    "    nlp.to_disk(\"/home/braiyenmassora/codex-telkom/resume-parser/src/notebooks/models\")\n",
    "    print(\"Saved model to\", output_dir)"
   ]
  },
  {
   "cell_type": "markdown",
   "id": "4dcf2b46",
   "metadata": {},
   "source": [
    "## Models Testing"
   ]
  },
  {
   "cell_type": "code",
   "execution_count": null,
   "id": "3693d552",
   "metadata": {},
   "outputs": [],
   "source": [
    "nlp1 = spacy.load(\"/home/braiyenmassora/codex-telkom/resume-parser/src/notebooks/models\") #load the best model\n",
    "doc = nlp1(\"UNIVERSITAS PENDIDIKAN INDONESIA\") # input sample text\n",
    "\n",
    "spacy.displacy.render(doc, style=\"ent\", jupyter=True) # display in Jupyter"
   ]
  },
  {
   "cell_type": "code",
   "execution_count": null,
   "id": "bea0bfdd",
   "metadata": {},
   "outputs": [],
   "source": []
  }
 ],
 "metadata": {
  "kernelspec": {
   "display_name": "Python 3 (ipykernel)",
   "language": "python",
   "name": "python3"
  },
  "language_info": {
   "codemirror_mode": {
    "name": "ipython",
    "version": 3
   },
   "file_extension": ".py",
   "mimetype": "text/x-python",
   "name": "python",
   "nbconvert_exporter": "python",
   "pygments_lexer": "ipython3",
   "version": "3.10.7"
  },
  "vscode": {
   "interpreter": {
    "hash": "ec16d246fd8bcdf582005bc7d36f0fabd2f1098c3e3af729e326d79746b49608"
   }
  }
 },
 "nbformat": 4,
 "nbformat_minor": 5
}
